{
 "cells": [
  {
   "cell_type": "code",
   "execution_count": 6,
   "metadata": {
    "collapsed": true
   },
   "outputs": [],
   "source": [
    "from pyspark.mllib.linalg import Vectors\n",
    "from pyspark.mllib.regression import LabeledPoint\n",
    "\n",
    "from string import split,strip\n",
    "\n",
    "from pyspark.mllib.tree import GradientBoostedTrees, GradientBoostedTreesModel\n",
    "from pyspark.mllib.tree import RandomForest, RandomForestModel\n",
    "\n",
    "from pyspark.mllib.util import MLUtils"
   ]
  },
  {
   "cell_type": "code",
   "execution_count": 9,
   "metadata": {
    "collapsed": false
   },
   "outputs": [
    {
     "data": {
      "text/plain": [
       "u'1.000000000000000000e+00,8.692932128906250000e-01,-6.350818276405334473e-01,2.256902605295181274e-01,3.274700641632080078e-01,-6.899932026863098145e-01,7.542022466659545898e-01,-2.485731393098831177e-01,-1.092063903808593750e+00,0.000000000000000000e+00,1.374992132186889648e+00,-6.536741852760314941e-01,9.303491115570068359e-01,1.107436060905456543e+00,1.138904333114624023e+00,-1.578198313713073730e+00,-1.046985387802124023e+00,0.000000000000000000e+00,6.579295396804809570e-01,-1.045456994324922562e-02,-4.576716944575309753e-02,3.101961374282836914e+00,1.353760004043579102e+00,9.795631170272827148e-01,9.780761599540710449e-01,9.200048446655273438e-01,7.216574549674987793e-01,9.887509346008300781e-01,8.766783475875854492e-01'"
      ]
     },
     "execution_count": 9,
     "metadata": {},
     "output_type": "execute_result"
    }
   ],
   "source": [
    "# Read the file into an RDD\n",
    "# If doing this on a real cluster, you need the file to be available on all nodes, ideally in HDFS.\n",
    "path='/HIGGS/HIGGS.csv'\n",
    "inputRDD=sc.textFile(path)"
   ]
  },
  {
   "cell_type": "code",
   "execution_count": 10,
   "metadata": {
    "collapsed": false
   },
   "outputs": [
    {
     "data": {
      "text/plain": [
       "LabeledPoint(1.0, [0.869293212891,-0.635081827641,0.22569026053,0.327470064163,-0.689993202686,0.754202246666,-0.24857313931,-1.09206390381,0.0,1.37499213219,-0.653674185276,0.930349111557,1.10743606091,1.13890433311,-1.57819831371,-1.0469853878,0.0,0.65792953968,-0.0104545699432,-0.0457671694458,3.10196137428,1.35376000404,0.979563117027,0.978076159954,0.920004844666,0.721657454967,0.988750934601,0.876678347588])"
      ]
     },
     "execution_count": 10,
     "metadata": {},
     "output_type": "execute_result"
    }
   ],
   "source": []
  },
  {
   "cell_type": "code",
   "execution_count": 11,
   "metadata": {
    "collapsed": false
   },
   "outputs": [
    {
     "name": "stdout",
     "output_type": "stream",
     "text": [
      "Sizes: Data1=110591, trainingData=77514, testData=33077\n"
     ]
    }
   ],
   "source": [
    "input_sampled = inputRDD.sample(False,0.1, seed=255).cache()\n",
    "# Transform the text RDD into an RDD of LabeledPoints\n",
    "Data=input_sampled.map(lambda line: [float(strip(x)) for x in line.split(',')])\\\n",
    "     .map(lambda alist: LabeledPoint(alist[0], alist[1:]))\n",
    "(trainingData,testData)=Data.randomSplit([0.7,0.3],seed=255)"
   ]
  },
  {
   "cell_type": "code",
   "execution_count": 12,
   "metadata": {
    "collapsed": false
   },
   "outputs": [
    {
     "name": "stdout",
     "output_type": "stream",
     "text": [
      "1 {'test': 0.36814100432324576, 'train': 0.37429367598111307} 55 seconds\n",
      "3 {'test': 0.32608761374973544, 'train': 0.3233351394586784} 61 seconds\n",
      "6 {'test': 0.2978202376273544, 'train': 0.28858012746084577} 136 seconds\n",
      "10 {'test': 0.3008132539226653, 'train': 0.1947390148876332} 716 seconds\n",
      "{1: {'test': 0.36814100432324576, 'train': 0.37429367598111307}, 10: {'test': 0.3008132539226653, 'train': 0.1947390148876332}, 3: {'test': 0.32608761374973544, 'train': 0.3233351394586784}, 6: {'test': 0.2978202376273544, 'train': 0.28858012746084577}}\n"
     ]
    }
   ],
   "source": [
    "from time import time\n",
    "errors={}\n",
    "for depth in [10]:\n",
    "    start=time()\n",
    "    model=GradientBoostedTrees.trainClassifier(trainingData, categoricalFeaturesInfo={}, numIterations=30, maxDepth=depth)\n",
    "    #print model.toDebugString()\n",
    "    errors[depth]={}\n",
    "    dataSets={'train':trainingData,'test':testData}\n",
    "    for name in dataSets.keys():  # Calculate errors on train and test sets\n",
    "        data=dataSets[name]\n",
    "        Predicted=model.predict(data.map(lambda x: x.features))\n",
    "        LabelsAndPredictions=data.map(lambda x: x.label).zip(Predicted)\n",
    "        Err = LabelsAndPredictions.filter(lambda (v,p):v != p).count()/float(data.count())\n",
    "        errors[depth][name]=Err\n",
    "    print depth,errors[depth],int(time()-start),'seconds'\n",
    "print errors"
   ]
  },
  {
   "cell_type": "code",
   "execution_count": null,
   "metadata": {
    "collapsed": true
   },
   "outputs": [],
   "source": []
  }
 ],
 "metadata": {
  "celltoolbar": "Slideshow",
  "kernelspec": {
   "display_name": "Python 2",
   "language": "python",
   "name": "python2"
  },
  "language_info": {
   "codemirror_mode": {
    "name": "ipython",
    "version": 2
   },
   "file_extension": ".py",
   "mimetype": "text/x-python",
   "name": "python",
   "nbconvert_exporter": "python",
   "pygments_lexer": "ipython2",
   "version": "2.7.5"
  }
 },
 "nbformat": 4,
 "nbformat_minor": 0
}
